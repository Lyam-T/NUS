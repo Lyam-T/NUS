{
 "cells": [
  {
   "cell_type": "markdown",
   "metadata": {
    "id": "0wd7D-vJi-1L"
   },
   "source": [
    "# CS3244, Machine Learning, Semester 1, 2024/25"
   ]
  },
  {
   "cell_type": "markdown",
   "metadata": {
    "id": "kOWX8g8ki4e-"
   },
   "source": [
    "# Credits\n",
    "Authored by [Min-Yen Kan](http://www.comp.nus.edu.sg/~kanmy), Chris Boesch and Martin Strobel (2021–2018), affiliated with [WING](http://wing.comp.nus.edu.sg), [NUS School of Computing](http://www.comp.nus.edu.sg) and [ALSET](http://www.nus.edu.sg/alset). Inspired in part by Andrew Ng's Coursera course and Yaser S. Abu-Mostafa's Caltech course.\n",
    "Licensed as: [Creative Commons Attribution 4.0 International](https://creativecommons.org/licenses/by/4.0/ ) (CC BY 4.0).\n",
    "Please retain and add to this credits cell if using this material as a whole or in part.   Credits for photos given in their captions."
   ]
  },
  {
   "cell_type": "markdown",
   "metadata": {
    "id": "Ee_-MXoPxe8G"
   },
   "source": [
    "Modified by [Xavier Bresson](https://twitter.com/xbresson), 14 Aug 2023  \n",
    "Modified by Wee Sun LEE, Jan 2025"
   ]
  },
  {
   "cell_type": "markdown",
   "metadata": {
    "id": "C7uUlXwCuvLY"
   },
   "source": [
    "**Learning Outcomes for this Notebook**\n",
    "\n",
    "After finishing this exercise, you should be able to:\n",
    "* Understand the basic means for executing machine learning.\n",
    "* Have a high-level introduction to Python, Notebook, sklearn"
   ]
  },
  {
   "cell_type": "markdown",
   "metadata": {
    "id": "UATxcaIRtMV_"
   },
   "source": [
    "# 1 Digit Recognition\n",
    "\n",
    "_Handwritten digit samples from the [MNIST (Modified National Institute of Standards and Technology) database](https://www.nist.gov/system/files/documents/srd/nistsd19.pdf).  Can you guess what was this first used for and who commissioned the work?_\n",
    "\n",
    "![Sample images from MNIST test dataset](https://upload.wikimedia.org/wikipedia/commons/2/27/MnistExamples.png)\n",
    "\n",
    "_Image by Josef Steppan via Wikipedia.  CC BY-SA 4.0_\n"
   ]
  },
  {
   "cell_type": "markdown",
   "metadata": {
    "id": "HZS3egoTg_FO"
   },
   "source": [
    "Now let's actually try to get some time on task in class.  We'll follow a modified tutorial for **[sklearn](http://scikit-learn.org/stable/tutorial/basic/tutorial.html)**, a very useful Python machine learning library which will be featured extensively in our course.  Let's first get the dataset _digits_ loaded in and take a peek at the data.  This is part of the famous MNIST digit dataset used to improve handwritten digit recognition."
   ]
  },
  {
   "cell_type": "code",
   "execution_count": null,
   "metadata": {
    "colab": {
     "base_uri": "https://localhost:8080/"
    },
    "executionInfo": {
     "elapsed": 989,
     "status": "ok",
     "timestamp": 1691978631898,
     "user": {
      "displayName": "Xavier Bresson",
      "userId": "14103767471123103792"
     },
     "user_tz": -480
    },
    "id": "859DSq97g_a8",
    "outputId": "b0d8e772-6010-4ab5-bfca-0c5e79abdff9"
   },
   "outputs": [],
   "source": [
    "# import the libraries to access data\n",
    "from sklearn import datasets\n",
    "\n",
    "# load in the data into a variable 'digits'\n",
    "digits = datasets.load_digits()\n",
    "\n",
    "# separate the loaded data into the digits (feature vectors) x and their corresponding answers (labels) y\n",
    "x_digits = digits.data\n",
    "y_digits = digits.target\n",
    "\n",
    "# find the number of instances in our dataset\n",
    "n_samples = len(x_digits) # size of the variable x_digits.\n",
    "print ('Number of examples: %d' % n_samples) # a format print statement: prints the string substituting the variable for the digit placeholder '%d'\n",
    "\n",
    "# Look at the input (x) and label (y) for a particular jth instance\n",
    "j = 0\n",
    "print ('Input #%d:' % j, x_digits[j])\n",
    "print ('Label #%d:' % j, y_digits[j])"
   ]
  },
  {
   "cell_type": "markdown",
   "metadata": {
    "id": "waUWyPq4P8ld"
   },
   "source": [
    "This particular dataset are handwritten digits and represented by $8\\times8 = 64$ entries, where each row concatenated in series to form a 1-dimension vector.  See whether you can make sense of the data.  Pick another instance (1–9) and run the same code and guess the number below."
   ]
  },
  {
   "cell_type": "code",
   "execution_count": null,
   "metadata": {
    "colab": {
     "base_uri": "https://localhost:8080/"
    },
    "executionInfo": {
     "elapsed": 3,
     "status": "ok",
     "timestamp": 1691979055604,
     "user": {
      "displayName": "Xavier Bresson",
      "userId": "14103767471123103792"
     },
     "user_tz": -480
    },
    "id": "AJ6qRcgDQKa9",
    "outputId": "9d1189aa-2d06-4a70-86af-9e87c5cbd1da"
   },
   "outputs": [],
   "source": [
    "k = 9 # Change this line to some number 1–9\n",
    "print ('Input #%d:' % k, x_digits[k])"
   ]
  },
  {
   "cell_type": "code",
   "execution_count": null,
   "metadata": {
    "colab": {
     "base_uri": "https://localhost:8080/",
     "height": 644
    },
    "executionInfo": {
     "elapsed": 7,
     "status": "ok",
     "timestamp": 1691979154466,
     "user": {
      "displayName": "Xavier Bresson",
      "userId": "14103767471123103792"
     },
     "user_tz": -480
    },
    "id": "L-S6hIG0yZp2",
    "outputId": "cb05ac51-c01f-4053-8f46-04ddcc7258d5"
   },
   "outputs": [],
   "source": [
    "# Plot the image with the following steps\n",
    "# 1. Convert 64-dim vector to 8x8-matrix\n",
    "# 2. Use matplotlib library\n",
    "\n",
    "k = 9\n",
    "image = x_digits[k]\n",
    "print(image.shape)\n",
    "image = image.reshape(8,8)\n",
    "print(image.shape)\n",
    "print(image)\n",
    "print('Label:', y_digits[k])\n",
    "\n",
    "import matplotlib.pyplot as plt\n",
    "plt.imshow(image, cmap='gray');\n"
   ]
  },
  {
   "cell_type": "markdown",
   "metadata": {
    "id": "LVTa3qZbQsoK"
   },
   "source": [
    "**Your Turn (Question 1)** Guess the digit that the number k=179 represents. Put your guess in Archipelago after looking at the image."
   ]
  },
  {
   "cell_type": "code",
   "execution_count": null,
   "metadata": {
    "executionInfo": {
     "elapsed": 3,
     "status": "ok",
     "timestamp": 1691974762899,
     "user": {
      "displayName": "Xavier Bresson",
      "userId": "14103767471123103792"
     },
     "user_tz": -480
    },
    "id": "Hh-CQoNnTPGB"
   },
   "outputs": [],
   "source": [
    "k = 179\n",
    "image = x_digits[k]\n",
    "print(image.shape)\n",
    "image = image.reshape(8,8)\n",
    "print(image.shape)\n",
    "print(image)\n",
    "\n",
    "plt.imshow(image, cmap='gray');\n"
   ]
  },
  {
   "cell_type": "code",
   "execution_count": null,
   "metadata": {},
   "outputs": [],
   "source": [
    "# NOW PRINT THE LABEL TO VERIFY YOUR GUESS\n",
    "print('Label:', y_digits[k])"
   ]
  },
  {
   "cell_type": "markdown",
   "metadata": {
    "id": "ZUJq0r75g-cW"
   },
   "source": [
    "Next, we'll split the data instances into those used to learn the model (training instances), and those used to assess the learned model's performance (testing instances)."
   ]
  },
  {
   "cell_type": "code",
   "execution_count": null,
   "metadata": {
    "colab": {
     "base_uri": "https://localhost:8080/"
    },
    "executionInfo": {
     "elapsed": 1024,
     "status": "ok",
     "timestamp": 1691979169528,
     "user": {
      "displayName": "Xavier Bresson",
      "userId": "14103767471123103792"
     },
     "user_tz": -480
    },
    "id": "AZrjhimNnUn9",
    "outputId": "7e0fd0f2-19c7-4518-eae4-0ecaf9ec4cf8"
   },
   "outputs": [],
   "source": [
    "# set aside the first 90% of the data for the training and the remaining 10% for testing.\n",
    "x_train = x_digits[0:int(.9 * n_samples)]\n",
    "y_train = y_digits[0:int(.9 * n_samples)]\n",
    "x_test = x_digits[int(.9 * n_samples):]\n",
    "y_test = y_digits[int(.9 * n_samples):]\n",
    "print ('Number of training examples: %d' % len(x_train))\n",
    "print ('Number of testing examples: %d' % len(x_test))"
   ]
  },
  {
   "cell_type": "markdown",
   "metadata": {
    "id": "M6DWrK42g-a3"
   },
   "source": [
    "Finally we'll do model learning and assessing. "
   ]
  },
  {
   "cell_type": "code",
   "execution_count": null,
   "metadata": {
    "colab": {
     "base_uri": "https://localhost:8080/"
    },
    "executionInfo": {
     "elapsed": 729,
     "status": "ok",
     "timestamp": 1691978925525,
     "user": {
      "displayName": "Xavier Bresson",
      "userId": "14103767471123103792"
     },
     "user_tz": -480
    },
    "id": "cQGvSIpRp9l8",
    "outputId": "5e88abbd-b406-404a-fc77-c53ecb8acb42"
   },
   "outputs": [],
   "source": [
    "# import the library to use our desired classifier (here, nearest neighbors, we'll see it next)\n",
    "from sklearn import neighbors\n",
    "\n",
    "# create an instance of the learner\n",
    "knn = neighbors.KNeighborsClassifier()\n",
    "\n",
    "# learn a model from the training data\n",
    "knn.fit(x_train, y_train)\n",
    "\n",
    "# evaluate our model over the testing data and print its accuracy. \n",
    "acc = knn.score(x_test,y_test)\n",
    "print('KNN score: %f' % acc)"
   ]
  },
  {
   "cell_type": "markdown",
   "metadata": {
    "id": "vBsNzyHjqK-z"
   },
   "source": [
    "That was pretty easy, wasn't it? \n",
    "\n",
    "Now, instead of spliting the first part of the data as training set and the last part as the test set, let's randomly put them in the training and test set."
   ]
  },
  {
   "cell_type": "code",
   "execution_count": null,
   "metadata": {
    "colab": {
     "base_uri": "https://localhost:8080/"
    },
    "executionInfo": {
     "elapsed": 4,
     "status": "ok",
     "timestamp": 1691979434341,
     "user": {
      "displayName": "Xavier Bresson",
      "userId": "14103767471123103792"
     },
     "user_tz": -480
    },
    "id": "DsNAgUte0kzs",
    "outputId": "124a5bfe-fd4a-420f-d3a5-563da74f7e39"
   },
   "outputs": [],
   "source": [
    "# split *randomly* 90% of the data for the training and the remaining 10% for testing.\n",
    "import numpy as np\n",
    "index_random_perm = np.random.permutation(n_samples)\n",
    "print(index_random_perm[:10])\n",
    "x_train = x_digits[index_random_perm[0:int(.9 * n_samples)]]\n",
    "y_train = y_digits[index_random_perm[0:int(.9 * n_samples)]]\n",
    "x_test = x_digits[index_random_perm[int(.9 * n_samples):]]\n",
    "y_test = y_digits[index_random_perm[int(.9 * n_samples):]]\n",
    "print ('Number of training examples: %d' % len(x_train))\n",
    "print ('Number of testing examples: %d' % len(x_test))"
   ]
  },
  {
   "cell_type": "code",
   "execution_count": null,
   "metadata": {
    "id": "Xl_T83R30nHr"
   },
   "outputs": [],
   "source": [
    "# create an instance of the learner\n",
    "knn2 = neighbors.KNeighborsClassifier()\n",
    "\n",
    "# learn a model from the training data\n",
    "knn2.fit(x_train, y_train)\n",
    "\n",
    "# evaluate our model over the testing data and print its accuracy. \n",
    "acc2 = knn.score(x_test,y_test)\n",
    "print('KNN score: %f' % acc2)"
   ]
  },
  {
   "cell_type": "markdown",
   "metadata": {},
   "source": [
    "**Your Turn (Question 2)** The score for randomly using the data as training and test is different. Speculate on the reason. Put your answer in Archipelago."
   ]
  }
 ],
 "metadata": {
  "colab": {
   "provenance": []
  },
  "kernelspec": {
   "display_name": "Python 3 (ipykernel)",
   "language": "python",
   "name": "python3"
  },
  "language_info": {
   "codemirror_mode": {
    "name": "ipython",
    "version": 3
   },
   "file_extension": ".py",
   "mimetype": "text/x-python",
   "name": "python",
   "nbconvert_exporter": "python",
   "pygments_lexer": "ipython3",
   "version": "3.12.4"
  }
 },
 "nbformat": 4,
 "nbformat_minor": 4
}
